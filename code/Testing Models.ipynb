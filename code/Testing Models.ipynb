{
 "cells": [
  {
   "cell_type": "code",
   "execution_count": 1,
   "metadata": {},
   "outputs": [],
   "source": [
    "import data\n",
    "import models\n",
    "import pandas as pd\n",
    "from sklearn.linear_model import LogisticRegression\n",
    "from sklearn.model_selection import cross_val_score\n",
    "from sklearn import decomposition\n",
    "from sklearn import preprocessing\n",
    "from sklearn.feature_extraction.text import *\n",
    "from sklearn.pipeline import make_pipeline\n",
    "from scipy.sparse import hstack"
   ]
  },
  {
   "cell_type": "code",
   "execution_count": null,
   "metadata": {},
   "outputs": [],
   "source": [
    "# Obtain data\n",
    "train_input, train_output, test_input = data.getDataFrom('../data')"
   ]
  },
  {
   "cell_type": "code",
   "execution_count": null,
   "metadata": {},
   "outputs": [],
   "source": [
    "# features extraction from the text\n",
    "# Set pipelines for word and char feature extraction\n",
    "count_char_vect = CountVectorizer(analyzer='char',ngram_range=(1, 2))\n",
    "tfidf_char_transformer = TfidfTransformer()\n",
    "charPipe = make_pipeline(count_char_vect,tfidf_char_transformer)\n",
    "\n",
    "count_word_vect = CountVectorizer(ngram_range=(1, 2))\n",
    "tfidf_word_transformer = TfidfTransformer()\n",
    "wordPipe = make_pipeline(count_word_vect,tfidf_word_transformer)\n",
    "\n",
    "# apply extraction\n",
    "extra, word, char, wordPipe, charPipe = data.getFeatures(train_input,True,True,True,wordPipe,charPipe)\n",
    "features_train = hstack([extra,word,char])\n",
    "\n",
    "# And for test data\n",
    "extra_test, word_test, char_test, wordPipe, charPipe = data.getTestFeatures(test_input,True,True,True,wordPipe,charPipe)\n",
    "features_test = hstack([extra_test,word_test,char_test])"
   ]
  },
  {
   "cell_type": "code",
   "execution_count": null,
   "metadata": {},
   "outputs": [],
   "source": [
    "# Choose the model\n",
    "model = make_pipeline(decomposition.TruncatedSVD(n_components=3),preprocessing.Normalizer(copy=False),LogisticRegression(C=10))"
   ]
  },
  {
   "cell_type": "code",
   "execution_count": null,
   "metadata": {},
   "outputs": [],
   "source": [
    "# Apply a model with a crossval\n",
    "prediction={'id':test_input['id']}\n",
    "for output_name in train_output.columns:\n",
    "    cv_loss = cross_val_score(model,features_train,train_output[output_name],cv = 5)\n",
    "    print('CV score for column {} is {}'.format(output_name, cv_loss))\n",
    "    model.fit(features_train,train_output[output_name])\n",
    "    prediction[output_name] = model.predict_proba(features_test)[:, 1]"
   ]
  },
  {
   "cell_type": "code",
   "execution_count": null,
   "metadata": {},
   "outputs": [],
   "source": [
    "#Format submission\n",
    "submission = pd.DataFrame.from_dict(prediction)\n",
    "submission.to_csv('submission.csv', index=False)"
   ]
  },
  {
   "cell_type": "code",
   "execution_count": 16,
   "metadata": {},
   "outputs": [
    {
     "data": {
      "text/plain": [
       "(159571, 8)"
      ]
     },
     "execution_count": 16,
     "metadata": {},
     "output_type": "execute_result"
    }
   ],
   "source": [
    "# Debug Cell\n",
    "prediction\n",
    "features_test.shape\n",
    "test_input.shape"
   ]
  }
 ],
 "metadata": {
  "kernelspec": {
   "display_name": "Python 3",
   "language": "python",
   "name": "python3"
  },
  "language_info": {
   "codemirror_mode": {
    "name": "ipython",
    "version": 3
   },
   "file_extension": ".py",
   "mimetype": "text/x-python",
   "name": "python",
   "nbconvert_exporter": "python",
   "pygments_lexer": "ipython3",
   "version": "3.6.4"
  }
 },
 "nbformat": 4,
 "nbformat_minor": 2
}
